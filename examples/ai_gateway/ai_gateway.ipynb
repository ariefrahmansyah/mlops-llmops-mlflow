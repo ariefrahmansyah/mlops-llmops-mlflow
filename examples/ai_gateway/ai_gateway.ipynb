{
 "cells": [
  {
   "cell_type": "markdown",
   "id": "6164da03-ef2f-4aac-936d-ac9c2ee60b1a",
   "metadata": {},
   "source": [
    "# MLflow AI Gateway"
   ]
  },
  {
   "cell_type": "code",
   "execution_count": 1,
   "id": "ccb8e482-d9a7-434d-9997-7e0219569bba",
   "metadata": {},
   "outputs": [],
   "source": [
    "import os\n",
    "\n",
    "assert (\n",
    "    \"OPENAI_API_BASE\" in os.environ\n",
    "), \"OPENAI_API_BASE environment variable must be set\"\n",
    "assert \"OPENAI_API_KEY\" in os.environ, \"OPENAI_API_KEY environment variable must be set\""
   ]
  },
  {
   "cell_type": "code",
   "execution_count": null,
   "id": "88acda66-32c9-4a57-aa9a-7868adcebc4f",
   "metadata": {},
   "outputs": [],
   "source": [
    "!mlflow gateway start --config-path config.yaml --port 5001"
   ]
  },
  {
   "cell_type": "code",
   "execution_count": null,
   "id": "6aad2936-6bfb-490a-b5d4-462b6d3d33cd",
   "metadata": {},
   "outputs": [],
   "source": []
  }
 ],
 "metadata": {
  "kernelspec": {
   "display_name": "Python 3 (ipykernel)",
   "language": "python",
   "name": "python3"
  },
  "language_info": {
   "codemirror_mode": {
    "name": "ipython",
    "version": 3
   },
   "file_extension": ".py",
   "mimetype": "text/x-python",
   "name": "python",
   "nbconvert_exporter": "python",
   "pygments_lexer": "ipython3",
   "version": "3.12.4"
  }
 },
 "nbformat": 4,
 "nbformat_minor": 5
}
